{
 "cells": [
  {
   "cell_type": "markdown",
   "metadata": {},
   "source": [
    "# Person re-identification "
   ]
  },
  {
   "cell_type": "markdown",
   "metadata": {},
   "source": [
    "### This sample use simple pretrained resnet-152 model to extract features/embeddings for an image "
   ]
  },
  {
   "cell_type": "markdown",
   "metadata": {},
   "source": [
    "### Compute Embedding"
   ]
  },
  {
   "cell_type": "code",
   "execution_count": 1,
   "metadata": {},
   "outputs": [],
   "source": [
    "images_dir = \"./tests/imagesMarket1501/\""
   ]
  },
  {
   "cell_type": "code",
   "execution_count": 2,
   "metadata": {},
   "outputs": [],
   "source": [
    "import sys\n",
    "import os\n",
    "from skimage import io\n",
    "import matplotlib.pyplot as plt\n",
    "import numpy as np\n",
    "import torch\n",
    "import pandas as pd\n",
    "from torch.utils.data import DataLoader\n",
    "\n",
    "sys.path.append(os.path.abspath('./src'))\n",
    "from resnetembedding import ResnetEmbedder\n",
    "from datasets.Market1501Dataset import Market1501Dataset\n",
    "from EuclideanPairwiseDistance import EuclideanPairwiseDistance\n",
    "from CMCScore import CMCScore\n"
   ]
  },
  {
   "cell_type": "code",
   "execution_count": 4,
   "metadata": {},
   "outputs": [
    {
     "name": "stdout",
     "output_type": "stream",
     "text": [
      "CPU times: user 652 ms, sys: 241 ms, total: 893 ms\n",
      "Wall time: 994 ms\n"
     ]
    }
   ],
   "source": [
    "%%time \n",
    "\n",
    "dataset = Market1501Dataset(images_dir)\n",
    "dataloader = DataLoader(dataset, batch_size=2, shuffle=False)\n",
    "\n",
    "model = ResnetEmbedder()\n",
    "\n",
    "embeddings = []\n",
    "class_person = []\n",
    "    \n",
    "for person_img, target in dataloader:\n",
    "    embedding = model(person_img)\n",
    "    embeddings.extend(embedding)\n",
    "    class_person.extend(target)\n",
    "\n",
    "embeddings = torch.stack(embeddings)\n",
    "class_person = torch.stack(class_person)\n"
   ]
  },
  {
   "cell_type": "code",
   "execution_count": 5,
   "metadata": {},
   "outputs": [
    {
     "data": {
      "text/plain": [
       "tensor([0, 0, 1, 1, 1, 1])"
      ]
     },
     "execution_count": 5,
     "metadata": {},
     "output_type": "execute_result"
    }
   ],
   "source": [
    "class_person"
   ]
  },
  {
   "cell_type": "code",
   "execution_count": 6,
   "metadata": {},
   "outputs": [
    {
     "data": {
      "text/plain": [
       "tensor([[ 2.0860, -0.9623, -2.3659,  ..., -3.2209, -0.7173, -1.7405],\n",
       "        [ 2.3526,  0.6473, -1.2543,  ..., -1.3970,  0.4834, -2.4779],\n",
       "        [ 2.5060, -0.8358,  1.3550,  ..., -2.4177,  0.1918, -1.9069],\n",
       "        [ 0.6304, -3.1290, -0.3387,  ..., -3.4402, -0.3905, -0.9481],\n",
       "        [ 2.4416, -1.7486, -0.9557,  ...,  0.8624,  0.1731, -0.3458]])"
      ]
     },
     "execution_count": 6,
     "metadata": {},
     "output_type": "execute_result"
    }
   ],
   "source": [
    "embeddings[0:5]"
   ]
  },
  {
   "cell_type": "code",
   "execution_count": 7,
   "metadata": {},
   "outputs": [
    {
     "data": {
      "text/plain": [
       "torch.Size([6, 1000])"
      ]
     },
     "execution_count": 7,
     "metadata": {},
     "output_type": "execute_result"
    }
   ],
   "source": [
    "embeddings.shape"
   ]
  },
  {
   "cell_type": "markdown",
   "metadata": {},
   "source": [
    "### Compute pairwise distance"
   ]
  },
  {
   "cell_type": "code",
   "execution_count": 8,
   "metadata": {},
   "outputs": [
    {
     "data": {
      "text/plain": [
       "tensor([[ 0.0000, 47.7461, 59.2575, 54.4379, 60.4004, 49.9503],\n",
       "        [47.7461,  0.0000, 51.1608, 55.9461, 53.2815, 53.2512],\n",
       "        [59.2575, 51.1608,  0.0000, 35.2323, 52.3397, 49.1692],\n",
       "        [54.4379, 55.9461, 35.2323,  0.0000, 55.4175, 47.1983],\n",
       "        [60.4004, 53.2815, 52.3397, 55.4175,  0.0000, 39.8705],\n",
       "        [49.9503, 53.2512, 49.1692, 47.1983, 39.8705,  0.0000]])"
      ]
     },
     "execution_count": 8,
     "metadata": {},
     "output_type": "execute_result"
    }
   ],
   "source": [
    "distance_metric = EuclideanPairwiseDistance()\n",
    "pairwise_distance = distance_metric(embeddings)\n",
    "pairwise_distance"
   ]
  },
  {
   "cell_type": "markdown",
   "metadata": {},
   "source": [
    "### Compute CMC score\n",
    "Definition: https://www.nist.gov/sites/default/files/documents/2016/12/06/12_ross_cmc-roc_ibpc2016.pdf\n",
    "\n",
    "* Each sample is  compared against all gallery samples. The resulting scores are sorted and ranked\n",
    "\n",
    "* Determine the rank at which a true match occurs \n",
    "* True Positive Identification Rate (TPIR): Probability of observing the correct identity within the top K ranks\n",
    "* CMC Curve: Plots TPIR against ranks\n",
    "* CMC Curve: Rank based metric\n",
    "\n"
   ]
  },
  {
   "cell_type": "code",
   "execution_count": 9,
   "metadata": {},
   "outputs": [
    {
     "data": {
      "text/plain": [
       "tensor([[ 0.0000, 47.7461, 59.2575, 54.4379, 60.4004, 49.9503],\n",
       "        [47.7461,  0.0000, 51.1608, 55.9461, 53.2815, 53.2512],\n",
       "        [59.2575, 51.1608,  0.0000, 35.2323, 52.3397, 49.1692],\n",
       "        [54.4379, 55.9461, 35.2323,  0.0000, 55.4175, 47.1983],\n",
       "        [60.4004, 53.2815, 52.3397, 55.4175,  0.0000, 39.8705],\n",
       "        [49.9503, 53.2512, 49.1692, 47.1983, 39.8705,  0.0000]])"
      ]
     },
     "execution_count": 9,
     "metadata": {},
     "output_type": "execute_result"
    }
   ],
   "source": [
    "from EuclideanPairwiseDistance import EuclideanPairwiseDistance\n",
    "\n",
    "distance_metric = EuclideanPairwiseDistance()\n",
    "pairwise_distance = distance_metric(embeddings)\n",
    "pairwise_distance\n"
   ]
  },
  {
   "cell_type": "code",
   "execution_count": 10,
   "metadata": {},
   "outputs": [
    {
     "data": {
      "text/plain": [
       "tensor([0, 0, 1, 1, 1, 1])"
      ]
     },
     "execution_count": 10,
     "metadata": {},
     "output_type": "execute_result"
    }
   ],
   "source": [
    "class_person"
   ]
  },
  {
   "cell_type": "code",
   "execution_count": 11,
   "metadata": {},
   "outputs": [
    {
     "name": "stdout",
     "output_type": "stream",
     "text": [
      "100.0\n"
     ]
    }
   ],
   "source": [
    "from CMCScore import CMCScore\n",
    "\n",
    "cmc_scorer = CMCScore()\n",
    "score = cmc_scorer.score(pairwise_distance, class_person, 1)\n",
    "print(score)"
   ]
  },
  {
   "cell_type": "code",
   "execution_count": 12,
   "metadata": {},
   "outputs": [
    {
     "name": "stdout",
     "output_type": "stream",
     "text": [
      "Percentage accuracy at k = 1 is 100.0\n"
     ]
    }
   ],
   "source": [
    "k=1\n",
    "accuracy, rank_k, rank_k_label = cmc_scorer.accuracy_at_top_k(pairwise_distance,  class_person, k)\n",
    "print(\"Percentage accuracy at k = {} is {}\".format(k, accuracy ))"
   ]
  },
  {
   "cell_type": "code",
   "execution_count": 13,
   "metadata": {},
   "outputs": [
    {
     "data": {
      "text/plain": [
       "tensor([[1],\n",
       "        [0],\n",
       "        [3],\n",
       "        [2],\n",
       "        [5],\n",
       "        [4]])"
      ]
     },
     "execution_count": 13,
     "metadata": {},
     "output_type": "execute_result"
    }
   ],
   "source": [
    "rank_k"
   ]
  },
  {
   "cell_type": "code",
   "execution_count": 14,
   "metadata": {},
   "outputs": [],
   "source": [
    "result_df = pd.DataFrame(rank_k_label, columns= [\"predicted_k_{}\".format(i) for i in range(1, k+1)])\n",
    "result_df[\"actual\"] = class_person"
   ]
  },
  {
   "cell_type": "code",
   "execution_count": 15,
   "metadata": {},
   "outputs": [
    {
     "data": {
      "text/html": [
       "<div>\n",
       "<style scoped>\n",
       "    .dataframe tbody tr th:only-of-type {\n",
       "        vertical-align: middle;\n",
       "    }\n",
       "\n",
       "    .dataframe tbody tr th {\n",
       "        vertical-align: top;\n",
       "    }\n",
       "\n",
       "    .dataframe thead th {\n",
       "        text-align: right;\n",
       "    }\n",
       "</style>\n",
       "<table border=\"1\" class=\"dataframe\">\n",
       "  <thead>\n",
       "    <tr style=\"text-align: right;\">\n",
       "      <th></th>\n",
       "      <th>predicted_k_1</th>\n",
       "      <th>actual</th>\n",
       "    </tr>\n",
       "  </thead>\n",
       "  <tbody>\n",
       "    <tr>\n",
       "      <th>0</th>\n",
       "      <td>0</td>\n",
       "      <td>0</td>\n",
       "    </tr>\n",
       "    <tr>\n",
       "      <th>1</th>\n",
       "      <td>0</td>\n",
       "      <td>0</td>\n",
       "    </tr>\n",
       "    <tr>\n",
       "      <th>2</th>\n",
       "      <td>1</td>\n",
       "      <td>1</td>\n",
       "    </tr>\n",
       "    <tr>\n",
       "      <th>3</th>\n",
       "      <td>1</td>\n",
       "      <td>1</td>\n",
       "    </tr>\n",
       "    <tr>\n",
       "      <th>4</th>\n",
       "      <td>1</td>\n",
       "      <td>1</td>\n",
       "    </tr>\n",
       "    <tr>\n",
       "      <th>5</th>\n",
       "      <td>1</td>\n",
       "      <td>1</td>\n",
       "    </tr>\n",
       "  </tbody>\n",
       "</table>\n",
       "</div>"
      ],
      "text/plain": [
       "   predicted_k_1  actual\n",
       "0              0       0\n",
       "1              0       0\n",
       "2              1       1\n",
       "3              1       1\n",
       "4              1       1\n",
       "5              1       1"
      ]
     },
     "execution_count": 15,
     "metadata": {},
     "output_type": "execute_result"
    }
   ],
   "source": [
    "result_df.head(n=20)"
   ]
  },
  {
   "cell_type": "markdown",
   "metadata": {},
   "source": [
    "### Visualise the embeddings extracted using T-SNE"
   ]
  },
  {
   "cell_type": "code",
   "execution_count": 16,
   "metadata": {},
   "outputs": [
    {
     "name": "stdout",
     "output_type": "stream",
     "text": [
      "Requirement already satisfied: scikit-learn==0.21.2 in /Users/aeg/miniconda/envs/imageembddingenv/lib/python3.6/site-packages (0.21.2)\n",
      "Requirement already satisfied: numpy>=1.11.0 in /Users/aeg/miniconda/envs/imageembddingenv/lib/python3.6/site-packages (from scikit-learn==0.21.2) (1.16.4)\n",
      "Requirement already satisfied: scipy>=0.17.0 in /Users/aeg/miniconda/envs/imageembddingenv/lib/python3.6/site-packages (from scikit-learn==0.21.2) (1.2.1)\n",
      "Requirement already satisfied: joblib>=0.11 in /Users/aeg/miniconda/envs/imageembddingenv/lib/python3.6/site-packages (from scikit-learn==0.21.2) (0.13.2)\n"
     ]
    }
   ],
   "source": [
    "!pip install scikit-learn==0.21.2"
   ]
  },
  {
   "cell_type": "code",
   "execution_count": 17,
   "metadata": {},
   "outputs": [
    {
     "name": "stdout",
     "output_type": "stream",
     "text": [
      "embeddings reduced to 2-D using TSNE\n",
      "\n",
      "[[  -4.8392267  -20.266273 ]\n",
      " [ -75.25943   -117.774086 ]\n",
      " [ -75.60325      2.502517 ]\n",
      " [ -55.89032    -57.579678 ]\n",
      " [-119.12415    -57.761086 ]\n",
      " [  -4.6277866  -94.602425 ]]\n"
     ]
    }
   ],
   "source": [
    "from sklearn.manifold import TSNE\n",
    "embedding_tsne = TSNE(random_state=42).fit_transform(embeddings)\n",
    "\n",
    "print(\"embeddings reduced to 2-D using TSNE\\n\")\n",
    "print(embedding_tsne[0:10])"
   ]
  },
  {
   "cell_type": "code",
   "execution_count": 18,
   "metadata": {},
   "outputs": [
    {
     "data": {
      "image/png": "[encoded data removed]",
      "text/plain": [
       "<Figure size 432x288 with 1 Axes>"
      ]
     },
     "metadata": {
      "needs_background": "light"
     },
     "output_type": "display_data"
    }
   ],
   "source": [
    "group = list(set(class_person))\n",
    "fig = plt.figure()\n",
    "ax = fig.add_subplot(1, 1, 1)\n",
    "\n",
    "scatter = ax.scatter(embedding_tsne[:, 0], embedding_tsne[:, 1], c= class_person, alpha=0.5, s= 200, cmap=\"Spectral\" )\n",
    "\n",
    "plt.title('T-SNE plot of person embedding')\n",
    "plt.show()"
   ]
  }
 ],
 "metadata": {
  "kernelspec": {
   "display_name": "Python 3",
   "language": "python",
   "name": "python3"
  },
  "language_info": {
   "codemirror_mode": {
    "name": "ipython",
    "version": 3
   },
   "file_extension": ".py",
   "mimetype": "text/x-python",
   "name": "python",
   "nbconvert_exporter": "python",
   "pygments_lexer": "ipython3",
   "version": "3.6.8"
  }
 },
 "nbformat": 4,
 "nbformat_minor": 1
}
