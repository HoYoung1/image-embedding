{
 "cells": [
  {
   "cell_type": "markdown",
   "metadata": {},
   "source": [
    "# Person re-identification "
   ]
  },
  {
   "cell_type": "markdown",
   "metadata": {},
   "source": [
    "### This sample use simple pretrained resnet-152 model to extract features/embeddings for an image "
   ]
  },
  {
   "cell_type": "markdown",
   "metadata": {},
   "source": [
    "### Compute Embedding"
   ]
  },
  {
   "cell_type": "code",
   "execution_count": 1,
   "metadata": {},
   "outputs": [],
   "source": [
    "images_dir = \"./tests/imagesMarket1501/\""
   ]
  },
  {
   "cell_type": "code",
   "execution_count": 2,
   "metadata": {},
   "outputs": [],
   "source": [
    "import sys\n",
    "import os\n",
    "from skimage import io\n",
    "import matplotlib.pyplot as plt\n",
    "import numpy as np\n",
    "import torch\n",
    "import pandas as pd\n",
    "from torch.utils.data import DataLoader\n",
    "\n",
    "sys.path.append(os.path.abspath('./src'))\n",
    "from resnetembedding import ResnetEmbedder\n",
    "from datasets.Market1501Dataset import Market1501Dataset\n",
    "from EuclideanPairwiseDistance import EuclideanPairwiseDistance\n",
    "from CMCScore import CMCScore\n"
   ]
  },
  {
   "cell_type": "code",
   "execution_count": 3,
   "metadata": {},
   "outputs": [
    {
     "name": "stdout",
     "output_type": "stream",
     "text": [
      "tensor([0, 0])\n",
      "tensor([1, 1])\n",
      "tensor([1, 1])\n",
      "CPU times: user 710 ms, sys: 204 ms, total: 914 ms\n",
      "Wall time: 974 ms\n"
     ]
    }
   ],
   "source": [
    "%%time \n",
    "\n",
    "dataset = Market1501Dataset(images_dir)\n",
    "dataloader = DataLoader(dataset, batch_size=2, shuffle=False)\n",
    "\n",
    "model = ResnetEmbedder()\n",
    "\n",
    "embeddings = []\n",
    "class_person = []\n",
    "    \n",
    "for person_img, target in dataloader:\n",
    "    embedding = model(person_img)\n",
    "    embeddings.extend(embedding)\n",
    "    class_person.extend(target)\n",
    "\n",
    "embeddings = torch.stack(embeddings)\n",
    "class_person = torch.stack(class_person)\n"
   ]
  },
  {
   "cell_type": "code",
   "execution_count": null,
   "metadata": {},
   "outputs": [],
   "source": [
    "class_person"
   ]
  },
  {
   "cell_type": "code",
   "execution_count": null,
   "metadata": {},
   "outputs": [],
   "source": [
    "embeddings[0:5]"
   ]
  },
  {
   "cell_type": "code",
   "execution_count": null,
   "metadata": {},
   "outputs": [],
   "source": [
    "embeddings.shape"
   ]
  },
  {
   "cell_type": "markdown",
   "metadata": {},
   "source": [
    "### Compute pairwise distance"
   ]
  },
  {
   "cell_type": "code",
   "execution_count": null,
   "metadata": {},
   "outputs": [],
   "source": [
    "distance_metric = EuclideanPairwiseDistance()\n",
    "pairwise_distance = distance_metric(embeddings)\n",
    "pairwise_distance"
   ]
  },
  {
   "cell_type": "markdown",
   "metadata": {},
   "source": [
    "### Compute CMC score\n",
    "Definition: https://www.nist.gov/sites/default/files/documents/2016/12/06/12_ross_cmc-roc_ibpc2016.pdf\n",
    "\n",
    "* Each sample is  compared against all gallery samples. The resulting scores are sorted and ranked\n",
    "\n",
    "* Determine the rank at which a true match occurs \n",
    "* True Positive Identification Rate (TPIR): Probability of observing the correct identity within the top K ranks\n",
    "* CMC Curve: Plots TPIR against ranks\n",
    "* CMC Curve: Rank based metric\n",
    "\n"
   ]
  },
  {
   "cell_type": "code",
   "execution_count": null,
   "metadata": {},
   "outputs": [],
   "source": [
    "from EuclideanPairwiseDistance import EuclideanPairwiseDistance\n",
    "\n",
    "distance_metric = EuclideanPairwiseDistance()\n",
    "pairwise_distance = distance_metric(embeddings)\n",
    "pairwise_distance\n"
   ]
  },
  {
   "cell_type": "code",
   "execution_count": null,
   "metadata": {},
   "outputs": [],
   "source": [
    "class_person"
   ]
  },
  {
   "cell_type": "code",
   "execution_count": null,
   "metadata": {},
   "outputs": [],
   "source": [
    "from CMCScore import CMCScore\n",
    "\n",
    "cmc_scorer = CMCScore()\n",
    "score = cmc_scorer.score(pairwise_distance, class_person, 1)\n",
    "print(score)"
   ]
  },
  {
   "cell_type": "code",
   "execution_count": null,
   "metadata": {},
   "outputs": [],
   "source": [
    "k=1\n",
    "accuracy, rank_k, rank_k_label = cmc_scorer.accuracy_at_top_k(pairwise_distance,  class_person, k)\n",
    "print(\"Percentage accuracy at k = {} is {}\".format(k, accuracy ))"
   ]
  },
  {
   "cell_type": "code",
   "execution_count": null,
   "metadata": {},
   "outputs": [],
   "source": [
    "rank_k"
   ]
  },
  {
   "cell_type": "code",
   "execution_count": null,
   "metadata": {},
   "outputs": [],
   "source": [
    "result_df = pd.DataFrame(rank_k_label, columns= [\"predicted_k_{}\".format(i) for i in range(1, k+1)])\n",
    "result_df[\"actual\"] = class_person"
   ]
  },
  {
   "cell_type": "code",
   "execution_count": null,
   "metadata": {},
   "outputs": [],
   "source": [
    "result_df.head(n=20)"
   ]
  },
  {
   "cell_type": "markdown",
   "metadata": {},
   "source": [
    "### Visualise the embeddings extracted using T-SNE"
   ]
  },
  {
   "cell_type": "code",
   "execution_count": null,
   "metadata": {},
   "outputs": [],
   "source": [
    "!pip install scikit-learn==0.21.2"
   ]
  },
  {
   "cell_type": "code",
   "execution_count": null,
   "metadata": {},
   "outputs": [],
   "source": [
    "from sklearn.manifold import TSNE\n",
    "embedding_tsne = TSNE(random_state=42).fit_transform(embeddings)\n",
    "\n",
    "print(\"embeddings reduced to 2-D using TSNE\\n\")\n",
    "print(embedding_tsne[0:10])"
   ]
  },
  {
   "cell_type": "code",
   "execution_count": null,
   "metadata": {},
   "outputs": [],
   "source": [
    "group = list(set(class_person))\n",
    "fig = plt.figure()\n",
    "ax = fig.add_subplot(1, 1, 1)\n",
    "\n",
    "scatter = ax.scatter(embedding_tsne[:, 0], embedding_tsne[:, 1], c= class_person, alpha=0.5, s= 200, cmap=\"Spectral\" )\n",
    "\n",
    "plt.title('T-SNE plot of person embedding')\n",
    "plt.show()"
   ]
  }
 ],
 "metadata": {
  "kernelspec": {
   "display_name": "Python 3",
   "language": "python",
   "name": "python3"
  },
  "language_info": {
   "codemirror_mode": {
    "name": "ipython",
    "version": 3
   },
   "file_extension": ".py",
   "mimetype": "text/x-python",
   "name": "python",
   "nbconvert_exporter": "python",
   "pygments_lexer": "ipython3",
   "version": "3.6.8"
  }
 },
 "nbformat": 4,
 "nbformat_minor": 1
}
