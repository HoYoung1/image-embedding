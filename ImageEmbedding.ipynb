{
 "cells": [
  {
   "cell_type": "markdown",
   "metadata": {},
   "source": [
    "# Person re-identification "
   ]
  },
  {
   "cell_type": "markdown",
   "metadata": {},
   "source": [
    "### This sample use simple pretrained resnet-152 model to extract features/embeddings for an image "
   ]
  },
  {
   "cell_type": "markdown",
   "metadata": {},
   "source": [
    "### Compute Embedding"
   ]
  },
  {
   "cell_type": "code",
   "execution_count": 96,
   "metadata": {},
   "outputs": [],
   "source": [
    "import sys\n",
    "import os\n",
    "from skimage import io\n",
    "import matplotlib.pyplot as plt\n",
    "import numpy as np\n",
    "import torch\n",
    "import pandas as pd\n",
    "sys.path.append(os.path.abspath('./src'))\n",
    "from resnetembedding import ResnetEmbedder"
   ]
  },
  {
   "cell_type": "code",
   "execution_count": 3,
   "metadata": {},
   "outputs": [],
   "source": [
    "def embed(image_path):\n",
    "    image = io.imread(image_path)\n",
    "    embedder = ResnetEmbedder()\n",
    "    return embedder(image).data.numpy()\n"
   ]
  },
  {
   "cell_type": "code",
   "execution_count": 4,
   "metadata": {},
   "outputs": [],
   "source": [
    "\n",
    "images_to_embed = [\n",
    "    [\"tests/imagesCaviar/0001007.jpg\",\n",
    "     \"tests/imagesCaviar/0001008.jpg\",\n",
    "     \"tests/imagesCaviar/0001009.jpg\",\n",
    "     \"tests/imagesCaviar/0001010.jpg\"],\n",
    "    [\"tests/imagesCaviar/0002001.jpg\",\n",
    "     \"tests/imagesCaviar/0002002.jpg\",\n",
    "     \"tests/imagesCaviar/0002003.jpg\",\n",
    "     \"tests/imagesCaviar/0002004.jpg\"],\n",
    "    ['tests/imagesLFW/AJ_Cook_001.jpg'],\n",
    "    ['tests/imagesLFW/George_W_Bush_0517.jpg',\n",
    "     'tests/imagesLFW/George_W_Bush_0518.jpg']\n",
    "]\n",
    "\n",
    "embeddings = []\n",
    "class_person=[]\n",
    "for e, persons in enumerate(images_to_embed):\n",
    "    for person_img in persons:\n",
    "        embeddings.append(  embed(person_img)[0])\n",
    "        class_person.append(e)\n",
    "\n",
    "embeddings = np.stack( embeddings)\n"
   ]
  },
  {
   "cell_type": "markdown",
   "metadata": {},
   "source": [
    "### Compute pairwise distance"
   ]
  },
  {
   "cell_type": "code",
   "execution_count": 27,
   "metadata": {},
   "outputs": [
    {
     "data": {
      "text/plain": [
       "tensor([[ 0.0000, 55.1163, 55.3310, 55.5862, 51.5287, 61.8887, 57.1199, 67.6788,\n",
       "         88.4629, 78.0813, 74.8508],\n",
       "        [55.1163,  0.0000, 23.9353, 23.0195, 53.8990, 71.4051, 63.6156, 79.4457,\n",
       "         77.7730, 75.0156, 75.8787],\n",
       "        [55.3310, 23.9353,  0.0000, 19.7439, 49.4162, 68.4724, 62.0006, 79.4011,\n",
       "         83.7693, 79.8911, 80.5265],\n",
       "        [55.5862, 23.0195, 19.7439,  0.0000, 49.5838, 67.2909, 61.3300, 78.8069,\n",
       "         78.3274, 76.2247, 77.1119],\n",
       "        [51.5287, 53.8990, 49.4162, 49.5838,  0.0000, 35.6241, 40.1188, 54.9345,\n",
       "         84.7086, 73.9627, 73.6753],\n",
       "        [61.8887, 71.4051, 68.4724, 67.2909, 35.6241,  0.0000, 45.7990, 46.8281,\n",
       "         95.8567, 83.0496, 81.7522],\n",
       "        [57.1199, 63.6156, 62.0006, 61.3300, 40.1188, 45.7990,  0.0000, 44.0803,\n",
       "         81.6414, 68.4018, 66.9947],\n",
       "        [67.6788, 79.4457, 79.4011, 78.8069, 54.9345, 46.8281, 44.0803,  0.0000,\n",
       "         92.3140, 77.8021, 78.9501],\n",
       "        [88.4629, 77.7730, 83.7693, 78.3274, 84.7086, 95.8567, 81.6414, 92.3140,\n",
       "          0.0000, 55.8755, 62.2665],\n",
       "        [78.0813, 75.0156, 79.8911, 76.2247, 73.9627, 83.0496, 68.4018, 77.8021,\n",
       "         55.8755,  0.0000, 38.5363],\n",
       "        [74.8508, 75.8787, 80.5265, 77.1119, 73.6753, 81.7522, 66.9947, 78.9501,\n",
       "         62.2665, 38.5363,  0.0000]])"
      ]
     },
     "execution_count": 27,
     "metadata": {},
     "output_type": "execute_result"
    }
   ],
   "source": [
    "from EuclideanPairwiseDistance import EuclideanPairwiseDistance\n",
    "\n",
    "distance_metric = EuclideanPairwiseDistance()\n",
    "pairwise_distance = distance_metric(torch.tensor(embeddings))\n",
    "pairwise_distance"
   ]
  },
  {
   "cell_type": "markdown",
   "metadata": {},
   "source": [
    "### Compute CMC score\n",
    "Definition: https://www.nist.gov/sites/default/files/documents/2016/12/06/12_ross_cmc-roc_ibpc2016.pdf\n",
    "\n",
    "* Each sample is  compared against all gallery samples. The resulting scores are sorted and ranked\n",
    "\n",
    "* Determine the rank at which a true match occurs \n",
    "* True Positive Identification Rate (TPIR): Probability of observing the correct identity within the top K ranks\n",
    "* CMC Curve: Plots TPIR against ranks\n",
    "* CMC Curve: Rank based metric\n",
    "\n"
   ]
  },
  {
   "cell_type": "code",
   "execution_count": 93,
   "metadata": {},
   "outputs": [],
   "source": [
    "\n",
    "\n",
    "def accuracy_at_top_k(pairwise_distance_matrix, k, target_label):\n",
    "    #Get the index matrix of the top k nearest neighbours\n",
    "    rank_k = torch.topk(pairwise_distance,k=k+1, dim=1, largest = False)[1]\n",
    "\n",
    "    #Ignore rank 0, as they are the same elements ( diagonal)\n",
    "    rank_k = rank_k[:, 1:]\n",
    "    \n",
    "    #map item index to target class\n",
    "    map_id_to_class = lambda x: target_label[x]\n",
    "    map_id_to_class_vec = np.vectorize(map_id_to_class)\n",
    "    rank_k_label = map_id_to_class_vec(rank_k)\n",
    "\n",
    "    #Compute accuracy\n",
    "    correct = 0\n",
    "    for i, r in enumerate(rank_k_label):\n",
    "        if target_label[i] in r : correct+=1\n",
    "\n",
    "    accuracy = (correct*100.0)/len(target_label)\n",
    "    \n",
    "    return accuracy, rank_k_label\n",
    "\n",
    "\n",
    "    \n"
   ]
  },
  {
   "cell_type": "code",
   "execution_count": 94,
   "metadata": {},
   "outputs": [
    {
     "name": "stdout",
     "output_type": "stream",
     "text": [
      "Percentage accuracy at k = 2 is 90.9090909090909\n"
     ]
    }
   ],
   "source": [
    "k=2\n",
    "accuracy, rank_k_label = accuracy_at_top_k(pairwise_distance, k, class_person)\n",
    "print(\"Percentage accuracy at k = {} is {}\".format(k, accuracy ))"
   ]
  },
  {
   "cell_type": "code",
   "execution_count": 101,
   "metadata": {},
   "outputs": [],
   "source": [
    "result_df = pd.DataFrame(rank_k_label, columns= [\"k_{}\".format(i) for i in range(k)])\n",
    "result_df[\"actual\"] = class_person"
   ]
  },
  {
   "cell_type": "code",
   "execution_count": 103,
   "metadata": {},
   "outputs": [
    {
     "data": {
      "text/html": [
       "<div>\n",
       "<style scoped>\n",
       "    .dataframe tbody tr th:only-of-type {\n",
       "        vertical-align: middle;\n",
       "    }\n",
       "\n",
       "    .dataframe tbody tr th {\n",
       "        vertical-align: top;\n",
       "    }\n",
       "\n",
       "    .dataframe thead th {\n",
       "        text-align: right;\n",
       "    }\n",
       "</style>\n",
       "<table border=\"1\" class=\"dataframe\">\n",
       "  <thead>\n",
       "    <tr style=\"text-align: right;\">\n",
       "      <th></th>\n",
       "      <th>k_0</th>\n",
       "      <th>k_1</th>\n",
       "      <th>actual</th>\n",
       "    </tr>\n",
       "  </thead>\n",
       "  <tbody>\n",
       "    <tr>\n",
       "      <th>0</th>\n",
       "      <td>1</td>\n",
       "      <td>0</td>\n",
       "      <td>0</td>\n",
       "    </tr>\n",
       "    <tr>\n",
       "      <th>1</th>\n",
       "      <td>0</td>\n",
       "      <td>0</td>\n",
       "      <td>0</td>\n",
       "    </tr>\n",
       "    <tr>\n",
       "      <th>2</th>\n",
       "      <td>0</td>\n",
       "      <td>0</td>\n",
       "      <td>0</td>\n",
       "    </tr>\n",
       "    <tr>\n",
       "      <th>3</th>\n",
       "      <td>0</td>\n",
       "      <td>0</td>\n",
       "      <td>0</td>\n",
       "    </tr>\n",
       "    <tr>\n",
       "      <th>4</th>\n",
       "      <td>1</td>\n",
       "      <td>1</td>\n",
       "      <td>1</td>\n",
       "    </tr>\n",
       "    <tr>\n",
       "      <th>5</th>\n",
       "      <td>1</td>\n",
       "      <td>1</td>\n",
       "      <td>1</td>\n",
       "    </tr>\n",
       "    <tr>\n",
       "      <th>6</th>\n",
       "      <td>1</td>\n",
       "      <td>1</td>\n",
       "      <td>1</td>\n",
       "    </tr>\n",
       "    <tr>\n",
       "      <th>7</th>\n",
       "      <td>1</td>\n",
       "      <td>1</td>\n",
       "      <td>1</td>\n",
       "    </tr>\n",
       "    <tr>\n",
       "      <th>8</th>\n",
       "      <td>3</td>\n",
       "      <td>3</td>\n",
       "      <td>2</td>\n",
       "    </tr>\n",
       "    <tr>\n",
       "      <th>9</th>\n",
       "      <td>3</td>\n",
       "      <td>2</td>\n",
       "      <td>3</td>\n",
       "    </tr>\n",
       "    <tr>\n",
       "      <th>10</th>\n",
       "      <td>3</td>\n",
       "      <td>2</td>\n",
       "      <td>3</td>\n",
       "    </tr>\n",
       "  </tbody>\n",
       "</table>\n",
       "</div>"
      ],
      "text/plain": [
       "    k_0  k_1  actual\n",
       "0     1    0       0\n",
       "1     0    0       0\n",
       "2     0    0       0\n",
       "3     0    0       0\n",
       "4     1    1       1\n",
       "5     1    1       1\n",
       "6     1    1       1\n",
       "7     1    1       1\n",
       "8     3    3       2\n",
       "9     3    2       3\n",
       "10    3    2       3"
      ]
     },
     "execution_count": 103,
     "metadata": {},
     "output_type": "execute_result"
    }
   ],
   "source": [
    "result_df.head(n=20)"
   ]
  },
  {
   "cell_type": "markdown",
   "metadata": {},
   "source": [
    "### Visualise the embeddings extracted using T-SNE"
   ]
  },
  {
   "cell_type": "code",
   "execution_count": 1,
   "metadata": {},
   "outputs": [
    {
     "name": "stdout",
     "output_type": "stream",
     "text": [
      "Requirement already satisfied: scikit-learn==0.21.2 in /Users/aeg/miniconda/envs/imageembddingenv/lib/python3.6/site-packages (0.21.2)\r\n",
      "Requirement already satisfied: scipy>=0.17.0 in /Users/aeg/miniconda/envs/imageembddingenv/lib/python3.6/site-packages (from scikit-learn==0.21.2) (1.2.1)\r\n",
      "Requirement already satisfied: joblib>=0.11 in /Users/aeg/miniconda/envs/imageembddingenv/lib/python3.6/site-packages (from scikit-learn==0.21.2) (0.13.2)\r\n",
      "Requirement already satisfied: numpy>=1.11.0 in /Users/aeg/miniconda/envs/imageembddingenv/lib/python3.6/site-packages (from scikit-learn==0.21.2) (1.16.4)\r\n"
     ]
    }
   ],
   "source": [
    "!pip install scikit-learn==0.21.2"
   ]
  },
  {
   "cell_type": "code",
   "execution_count": 21,
   "metadata": {},
   "outputs": [
    {
     "name": "stdout",
     "output_type": "stream",
     "text": [
      "embeddings reduced to 2-D using TSNE\n",
      "\n",
      "[[ 112.37329   -145.54024  ]\n",
      " [ 120.38639     61.33669  ]\n",
      " [  68.58103    -45.88331  ]\n",
      " [ -82.93789    100.80529  ]\n",
      " [   0.5197888 -165.20583  ]\n",
      " [  35.917812   139.61531  ]\n",
      " [-115.78925   -125.89123  ]\n",
      " [ 177.47624    -38.78004  ]\n",
      " [   3.9776573   35.23945  ]\n",
      " [ -31.471674   -59.34523  ]]\n"
     ]
    }
   ],
   "source": [
    "from sklearn.manifold import TSNE\n",
    "embedding_tsne = TSNE(random_state=42).fit_transform(embeddings)\n",
    "\n",
    "print(\"embeddings reduced to 2-D using TSNE\\n\")\n",
    "print(embedding_tsne[0:10])"
   ]
  },
  {
   "cell_type": "code",
   "execution_count": 22,
   "metadata": {},
   "outputs": [
    {
     "data": {
      "image/png": "[encoded data removed]",
      "text/plain": [
       "<Figure size 432x288 with 1 Axes>"
      ]
     },
     "metadata": {
      "needs_background": "light"
     },
     "output_type": "display_data"
    }
   ],
   "source": [
    "group = list(set(class_person))\n",
    "fig = plt.figure()\n",
    "ax = fig.add_subplot(1, 1, 1)\n",
    "\n",
    "scatter = ax.scatter(embedding_tsne[:, 0], embedding_tsne[:, 1], c= class_person, alpha=0.5, s= 200, cmap=\"Spectral\" )\n",
    "\n",
    "plt.title('T-SNE plot of person embedding')\n",
    "plt.show()"
   ]
  }
 ],
 "metadata": {
  "kernelspec": {
   "display_name": "Python 3",
   "language": "python",
   "name": "python3"
  },
  "language_info": {
   "codemirror_mode": {
    "name": "ipython",
    "version": 3
   },
   "file_extension": ".py",
   "mimetype": "text/x-python",
   "name": "python",
   "nbconvert_exporter": "python",
   "pygments_lexer": "ipython3",
   "version": "3.6.8"
  }
 },
 "nbformat": 4,
 "nbformat_minor": 1
}
