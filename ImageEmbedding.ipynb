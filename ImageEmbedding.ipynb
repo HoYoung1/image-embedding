{
 "cells": [
  {
   "cell_type": "markdown",
   "metadata": {},
   "source": [
    "# Person re-identification "
   ]
  },
  {
   "cell_type": "markdown",
   "metadata": {},
   "source": [
    "### This sample use simple pretrained resnet-152 model to extract features/embeddings for an image "
   ]
  },
  {
   "cell_type": "markdown",
   "metadata": {},
   "source": [
    "### Compute Embedding"
   ]
  },
  {
   "cell_type": "code",
   "execution_count": 1,
   "metadata": {},
   "outputs": [],
   "source": [
    "images_dir = \"/tmp/Market-1501-v15.09.15/bounding_box_train/\""
   ]
  },
  {
   "cell_type": "code",
   "execution_count": 2,
   "metadata": {},
   "outputs": [],
   "source": [
    "import sys\n",
    "import os\n",
    "from skimage import io\n",
    "import matplotlib.pyplot as plt\n",
    "import numpy as np\n",
    "import torch\n",
    "import pandas as pd\n",
    "sys.path.append(os.path.abspath('./src'))\n",
    "from resnetembedding import ResnetEmbedder\n",
    "from datasets.Market1501Dataset import Market1501Dataset\n"
   ]
  },
  {
   "cell_type": "code",
   "execution_count": 5,
   "metadata": {},
   "outputs": [],
   "source": [
    "def embed(image_rgb):\n",
    "    embedder = ResnetEmbedder()\n",
    "    return embedder(image_rgb).data.numpy()\n"
   ]
  },
  {
   "cell_type": "code",
   "execution_count": null,
   "metadata": {},
   "outputs": [],
   "source": [
    "%%time \n",
    "\n",
    "images_dataset = Market1501Dataset(images_dir)\n",
    "\n",
    "embeddings = []\n",
    "class_person=[]\n",
    "for person_img, target in images_dataset:\n",
    "    embeddings.append(  embed(person_img)[0])\n",
    "    class_person.append(target)\n",
    "\n",
    "embeddings = np.stack( embeddings)\n"
   ]
  },
  {
   "cell_type": "code",
   "execution_count": null,
   "metadata": {},
   "outputs": [],
   "source": [
    "embeddings[0:5]"
   ]
  },
  {
   "cell_type": "code",
   "execution_count": null,
   "metadata": {},
   "outputs": [],
   "source": [
    "embeddings.shape"
   ]
  },
  {
   "cell_type": "markdown",
   "metadata": {},
   "source": [
    "### Compute pairwise distance"
   ]
  },
  {
   "cell_type": "code",
   "execution_count": null,
   "metadata": {},
   "outputs": [],
   "source": [
    "from EuclideanPairwiseDistance import EuclideanPairwiseDistance\n",
    "\n",
    "distance_metric = EuclideanPairwiseDistance()\n",
    "pairwise_distance = distance_metric(torch.tensor(embeddings))\n",
    "pairwise_distance"
   ]
  },
  {
   "cell_type": "markdown",
   "metadata": {},
   "source": [
    "### Compute CMC score\n",
    "Definition: https://www.nist.gov/sites/default/files/documents/2016/12/06/12_ross_cmc-roc_ibpc2016.pdf\n",
    "\n",
    "* Each sample is  compared against all gallery samples. The resulting scores are sorted and ranked\n",
    "\n",
    "* Determine the rank at which a true match occurs \n",
    "* True Positive Identification Rate (TPIR): Probability of observing the correct identity within the top K ranks\n",
    "* CMC Curve: Plots TPIR against ranks\n",
    "* CMC Curve: Rank based metric\n",
    "\n"
   ]
  },
  {
   "cell_type": "code",
   "execution_count": null,
   "metadata": {},
   "outputs": [],
   "source": [
    "from EuclideanPairwiseDistance import EuclideanPairwiseDistance\n",
    "\n",
    "distance_metric = EuclideanPairwiseDistance()\n",
    "pairwise_distance = distance_metric(torch.tensor(embeddings))\n",
    "pairwise_distance\n"
   ]
  },
  {
   "cell_type": "code",
   "execution_count": null,
   "metadata": {},
   "outputs": [],
   "source": [
    "from CMCScore import CMCScore\n",
    "\n",
    "cmc_scorer = CMCScore()\n",
    "score = cmc_scorer.score(pairwise_distance, class_person, 2)\n",
    "print(score)"
   ]
  },
  {
   "cell_type": "code",
   "execution_count": null,
   "metadata": {},
   "outputs": [],
   "source": [
    "k=1\n",
    "accuracy, rank_k, rank_k_label = cmc_scorer.accuracy_at_top_k(pairwise_distance,  class_person, k)\n",
    "print(\"Percentage accuracy at k = {} is {}\".format(k, accuracy ))"
   ]
  },
  {
   "cell_type": "code",
   "execution_count": null,
   "metadata": {},
   "outputs": [],
   "source": [
    "rank_k"
   ]
  },
  {
   "cell_type": "code",
   "execution_count": null,
   "metadata": {},
   "outputs": [],
   "source": [
    "result_df = pd.DataFrame(rank_k_label, columns= [\"predicted_k_{}\".format(i) for i in range(1, k+1)])\n",
    "result_df[\"actual\"] = class_person"
   ]
  },
  {
   "cell_type": "code",
   "execution_count": null,
   "metadata": {},
   "outputs": [],
   "source": [
    "result_df.head(n=20)"
   ]
  },
  {
   "cell_type": "markdown",
   "metadata": {},
   "source": [
    "### Visualise the embeddings extracted using T-SNE"
   ]
  },
  {
   "cell_type": "code",
   "execution_count": null,
   "metadata": {},
   "outputs": [],
   "source": [
    "!pip install scikit-learn==0.21.2"
   ]
  },
  {
   "cell_type": "code",
   "execution_count": null,
   "metadata": {},
   "outputs": [],
   "source": [
    "from sklearn.manifold import TSNE\n",
    "embedding_tsne = TSNE(random_state=42).fit_transform(embeddings)\n",
    "\n",
    "print(\"embeddings reduced to 2-D using TSNE\\n\")\n",
    "print(embedding_tsne[0:10])"
   ]
  },
  {
   "cell_type": "code",
   "execution_count": null,
   "metadata": {},
   "outputs": [],
   "source": [
    "group = list(set(class_person))\n",
    "fig = plt.figure()\n",
    "ax = fig.add_subplot(1, 1, 1)\n",
    "\n",
    "scatter = ax.scatter(embedding_tsne[:, 0], embedding_tsne[:, 1], c= class_person, alpha=0.5, s= 200, cmap=\"Spectral\" )\n",
    "\n",
    "plt.title('T-SNE plot of person embedding')\n",
    "plt.show()"
   ]
  }
 ],
 "metadata": {
  "kernelspec": {
   "display_name": "Python 3",
   "language": "python",
   "name": "python3"
  },
  "language_info": {
   "codemirror_mode": {
    "name": "ipython",
    "version": 3
   },
   "file_extension": ".py",
   "mimetype": "text/x-python",
   "name": "python",
   "nbconvert_exporter": "python",
   "pygments_lexer": "ipython3",
   "version": "3.6.8"
  }
 },
 "nbformat": 4,
 "nbformat_minor": 1
}
